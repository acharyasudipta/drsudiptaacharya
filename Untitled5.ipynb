{
  "nbformat": 4,
  "nbformat_minor": 0,
  "metadata": {
    "colab": {
      "provenance": [],
      "authorship_tag": "ABX9TyNj+f2zNEMkNI1jPJopgkzG",
      "include_colab_link": true
    },
    "kernelspec": {
      "name": "python3",
      "display_name": "Python 3"
    },
    "language_info": {
      "name": "python"
    }
  },
  "cells": [
    {
      "cell_type": "markdown",
      "metadata": {
        "id": "view-in-github",
        "colab_type": "text"
      },
      "source": [
        "<a href=\"https://colab.research.google.com/github/acharyasudipta/drsudiptaacharya/blob/main/Untitled5.ipynb\" target=\"_parent\"><img src=\"https://colab.research.google.com/assets/colab-badge.svg\" alt=\"Open In Colab\"/></a>"
      ]
    },
    {
      "cell_type": "code",
      "execution_count": 2,
      "metadata": {
        "id": "9BRak9Nhg6Hv"
      },
      "outputs": [],
      "source": [
        "\n",
        "import numpy as np \n",
        "import pandas as pd \n",
        "import seaborn as sns \n",
        "import matplotlib.pyplot as plt\n",
        "#from google.colab import files\n",
        "#uploaded = files.upload()"
      ]
    },
    {
      "cell_type": "code",
      "source": [
        "df=pd.read_excel(\"EDA_Shark_Tank_India.xlsx\")\n",
        "df.head()"
      ],
      "metadata": {
        "colab": {
          "base_uri": "https://localhost:8080/",
          "height": 455
        },
        "id": "j1c2cNNKNiFE",
        "outputId": "41700c55-2bc3-4396-c056-00095dd28913"
      },
      "execution_count": 3,
      "outputs": [
        {
          "output_type": "execute_result",
          "data": {
            "text/plain": [
              "   episode_number  pitch_number           brand_name  \\\n",
              "0               1             1  BluePine Industries   \n",
              "1               1             2        Booz scooters   \n",
              "2               1             3  Heart up my Sleeves   \n",
              "3               2             4           Tagz Foods   \n",
              "4               2             5       Head and Heart   \n",
              "\n",
              "                                            idea  deal  pitcher_ask_amount  \\\n",
              "0                                   Frozen Momos     1                50.0   \n",
              "1  Renting e-bike for mobility in private spaces     1                40.0   \n",
              "2                             Detachable Sleeves     1                25.0   \n",
              "3                           Healthy Potato Chips     1                70.0   \n",
              "4                       Brain Development Course     0                50.0   \n",
              "\n",
              "   ask_equity  ask_valuation  deal_amount  deal_equity  ...  ashneer_deal  \\\n",
              "0         5.0        1000.00         75.0        16.00  ...             1   \n",
              "1        15.0         266.67         40.0        50.00  ...             1   \n",
              "2        10.0         250.00         25.0        30.00  ...             0   \n",
              "3         1.0        7000.00         70.0         2.75  ...             1   \n",
              "4         5.0        1000.00          0.0         0.00  ...             0   \n",
              "\n",
              "   anupam_deal  aman_deal  namita_deal  vineeta_deal  peyush_deal  \\\n",
              "0            0          1            0             1            0   \n",
              "1            0          0            0             1            0   \n",
              "2            1          0            0             1            0   \n",
              "3            0          0            0             0            0   \n",
              "4            0          0            0             0            0   \n",
              "\n",
              "   ghazal_deal  total_sharks_invested  amount_per_shark  equity_per_shark  \n",
              "0            0                      3              25.0          5.333333  \n",
              "1            0                      2              20.0         25.000000  \n",
              "2            0                      2              12.5         15.000000  \n",
              "3            0                      1              70.0          2.750000  \n",
              "4            0                      0               0.0          0.000000  \n",
              "\n",
              "[5 rows x 28 columns]"
            ],
            "text/html": [
              "\n",
              "  <div id=\"df-9a22cada-6875-4da3-a228-1a8513d0073b\">\n",
              "    <div class=\"colab-df-container\">\n",
              "      <div>\n",
              "<style scoped>\n",
              "    .dataframe tbody tr th:only-of-type {\n",
              "        vertical-align: middle;\n",
              "    }\n",
              "\n",
              "    .dataframe tbody tr th {\n",
              "        vertical-align: top;\n",
              "    }\n",
              "\n",
              "    .dataframe thead th {\n",
              "        text-align: right;\n",
              "    }\n",
              "</style>\n",
              "<table border=\"1\" class=\"dataframe\">\n",
              "  <thead>\n",
              "    <tr style=\"text-align: right;\">\n",
              "      <th></th>\n",
              "      <th>episode_number</th>\n",
              "      <th>pitch_number</th>\n",
              "      <th>brand_name</th>\n",
              "      <th>idea</th>\n",
              "      <th>deal</th>\n",
              "      <th>pitcher_ask_amount</th>\n",
              "      <th>ask_equity</th>\n",
              "      <th>ask_valuation</th>\n",
              "      <th>deal_amount</th>\n",
              "      <th>deal_equity</th>\n",
              "      <th>...</th>\n",
              "      <th>ashneer_deal</th>\n",
              "      <th>anupam_deal</th>\n",
              "      <th>aman_deal</th>\n",
              "      <th>namita_deal</th>\n",
              "      <th>vineeta_deal</th>\n",
              "      <th>peyush_deal</th>\n",
              "      <th>ghazal_deal</th>\n",
              "      <th>total_sharks_invested</th>\n",
              "      <th>amount_per_shark</th>\n",
              "      <th>equity_per_shark</th>\n",
              "    </tr>\n",
              "  </thead>\n",
              "  <tbody>\n",
              "    <tr>\n",
              "      <th>0</th>\n",
              "      <td>1</td>\n",
              "      <td>1</td>\n",
              "      <td>BluePine Industries</td>\n",
              "      <td>Frozen Momos</td>\n",
              "      <td>1</td>\n",
              "      <td>50.0</td>\n",
              "      <td>5.0</td>\n",
              "      <td>1000.00</td>\n",
              "      <td>75.0</td>\n",
              "      <td>16.00</td>\n",
              "      <td>...</td>\n",
              "      <td>1</td>\n",
              "      <td>0</td>\n",
              "      <td>1</td>\n",
              "      <td>0</td>\n",
              "      <td>1</td>\n",
              "      <td>0</td>\n",
              "      <td>0</td>\n",
              "      <td>3</td>\n",
              "      <td>25.0</td>\n",
              "      <td>5.333333</td>\n",
              "    </tr>\n",
              "    <tr>\n",
              "      <th>1</th>\n",
              "      <td>1</td>\n",
              "      <td>2</td>\n",
              "      <td>Booz scooters</td>\n",
              "      <td>Renting e-bike for mobility in private spaces</td>\n",
              "      <td>1</td>\n",
              "      <td>40.0</td>\n",
              "      <td>15.0</td>\n",
              "      <td>266.67</td>\n",
              "      <td>40.0</td>\n",
              "      <td>50.00</td>\n",
              "      <td>...</td>\n",
              "      <td>1</td>\n",
              "      <td>0</td>\n",
              "      <td>0</td>\n",
              "      <td>0</td>\n",
              "      <td>1</td>\n",
              "      <td>0</td>\n",
              "      <td>0</td>\n",
              "      <td>2</td>\n",
              "      <td>20.0</td>\n",
              "      <td>25.000000</td>\n",
              "    </tr>\n",
              "    <tr>\n",
              "      <th>2</th>\n",
              "      <td>1</td>\n",
              "      <td>3</td>\n",
              "      <td>Heart up my Sleeves</td>\n",
              "      <td>Detachable Sleeves</td>\n",
              "      <td>1</td>\n",
              "      <td>25.0</td>\n",
              "      <td>10.0</td>\n",
              "      <td>250.00</td>\n",
              "      <td>25.0</td>\n",
              "      <td>30.00</td>\n",
              "      <td>...</td>\n",
              "      <td>0</td>\n",
              "      <td>1</td>\n",
              "      <td>0</td>\n",
              "      <td>0</td>\n",
              "      <td>1</td>\n",
              "      <td>0</td>\n",
              "      <td>0</td>\n",
              "      <td>2</td>\n",
              "      <td>12.5</td>\n",
              "      <td>15.000000</td>\n",
              "    </tr>\n",
              "    <tr>\n",
              "      <th>3</th>\n",
              "      <td>2</td>\n",
              "      <td>4</td>\n",
              "      <td>Tagz Foods</td>\n",
              "      <td>Healthy Potato Chips</td>\n",
              "      <td>1</td>\n",
              "      <td>70.0</td>\n",
              "      <td>1.0</td>\n",
              "      <td>7000.00</td>\n",
              "      <td>70.0</td>\n",
              "      <td>2.75</td>\n",
              "      <td>...</td>\n",
              "      <td>1</td>\n",
              "      <td>0</td>\n",
              "      <td>0</td>\n",
              "      <td>0</td>\n",
              "      <td>0</td>\n",
              "      <td>0</td>\n",
              "      <td>0</td>\n",
              "      <td>1</td>\n",
              "      <td>70.0</td>\n",
              "      <td>2.750000</td>\n",
              "    </tr>\n",
              "    <tr>\n",
              "      <th>4</th>\n",
              "      <td>2</td>\n",
              "      <td>5</td>\n",
              "      <td>Head and Heart</td>\n",
              "      <td>Brain Development Course</td>\n",
              "      <td>0</td>\n",
              "      <td>50.0</td>\n",
              "      <td>5.0</td>\n",
              "      <td>1000.00</td>\n",
              "      <td>0.0</td>\n",
              "      <td>0.00</td>\n",
              "      <td>...</td>\n",
              "      <td>0</td>\n",
              "      <td>0</td>\n",
              "      <td>0</td>\n",
              "      <td>0</td>\n",
              "      <td>0</td>\n",
              "      <td>0</td>\n",
              "      <td>0</td>\n",
              "      <td>0</td>\n",
              "      <td>0.0</td>\n",
              "      <td>0.000000</td>\n",
              "    </tr>\n",
              "  </tbody>\n",
              "</table>\n",
              "<p>5 rows × 28 columns</p>\n",
              "</div>\n",
              "      <button class=\"colab-df-convert\" onclick=\"convertToInteractive('df-9a22cada-6875-4da3-a228-1a8513d0073b')\"\n",
              "              title=\"Convert this dataframe to an interactive table.\"\n",
              "              style=\"display:none;\">\n",
              "        \n",
              "  <svg xmlns=\"http://www.w3.org/2000/svg\" height=\"24px\"viewBox=\"0 0 24 24\"\n",
              "       width=\"24px\">\n",
              "    <path d=\"M0 0h24v24H0V0z\" fill=\"none\"/>\n",
              "    <path d=\"M18.56 5.44l.94 2.06.94-2.06 2.06-.94-2.06-.94-.94-2.06-.94 2.06-2.06.94zm-11 1L8.5 8.5l.94-2.06 2.06-.94-2.06-.94L8.5 2.5l-.94 2.06-2.06.94zm10 10l.94 2.06.94-2.06 2.06-.94-2.06-.94-.94-2.06-.94 2.06-2.06.94z\"/><path d=\"M17.41 7.96l-1.37-1.37c-.4-.4-.92-.59-1.43-.59-.52 0-1.04.2-1.43.59L10.3 9.45l-7.72 7.72c-.78.78-.78 2.05 0 2.83L4 21.41c.39.39.9.59 1.41.59.51 0 1.02-.2 1.41-.59l7.78-7.78 2.81-2.81c.8-.78.8-2.07 0-2.86zM5.41 20L4 18.59l7.72-7.72 1.47 1.35L5.41 20z\"/>\n",
              "  </svg>\n",
              "      </button>\n",
              "      \n",
              "  <style>\n",
              "    .colab-df-container {\n",
              "      display:flex;\n",
              "      flex-wrap:wrap;\n",
              "      gap: 12px;\n",
              "    }\n",
              "\n",
              "    .colab-df-convert {\n",
              "      background-color: #E8F0FE;\n",
              "      border: none;\n",
              "      border-radius: 50%;\n",
              "      cursor: pointer;\n",
              "      display: none;\n",
              "      fill: #1967D2;\n",
              "      height: 32px;\n",
              "      padding: 0 0 0 0;\n",
              "      width: 32px;\n",
              "    }\n",
              "\n",
              "    .colab-df-convert:hover {\n",
              "      background-color: #E2EBFA;\n",
              "      box-shadow: 0px 1px 2px rgba(60, 64, 67, 0.3), 0px 1px 3px 1px rgba(60, 64, 67, 0.15);\n",
              "      fill: #174EA6;\n",
              "    }\n",
              "\n",
              "    [theme=dark] .colab-df-convert {\n",
              "      background-color: #3B4455;\n",
              "      fill: #D2E3FC;\n",
              "    }\n",
              "\n",
              "    [theme=dark] .colab-df-convert:hover {\n",
              "      background-color: #434B5C;\n",
              "      box-shadow: 0px 1px 3px 1px rgba(0, 0, 0, 0.15);\n",
              "      filter: drop-shadow(0px 1px 2px rgba(0, 0, 0, 0.3));\n",
              "      fill: #FFFFFF;\n",
              "    }\n",
              "  </style>\n",
              "\n",
              "      <script>\n",
              "        const buttonEl =\n",
              "          document.querySelector('#df-9a22cada-6875-4da3-a228-1a8513d0073b button.colab-df-convert');\n",
              "        buttonEl.style.display =\n",
              "          google.colab.kernel.accessAllowed ? 'block' : 'none';\n",
              "\n",
              "        async function convertToInteractive(key) {\n",
              "          const element = document.querySelector('#df-9a22cada-6875-4da3-a228-1a8513d0073b');\n",
              "          const dataTable =\n",
              "            await google.colab.kernel.invokeFunction('convertToInteractive',\n",
              "                                                     [key], {});\n",
              "          if (!dataTable) return;\n",
              "\n",
              "          const docLinkHtml = 'Like what you see? Visit the ' +\n",
              "            '<a target=\"_blank\" href=https://colab.research.google.com/notebooks/data_table.ipynb>data table notebook</a>'\n",
              "            + ' to learn more about interactive tables.';\n",
              "          element.innerHTML = '';\n",
              "          dataTable['output_type'] = 'display_data';\n",
              "          await google.colab.output.renderOutput(dataTable, element);\n",
              "          const docLink = document.createElement('div');\n",
              "          docLink.innerHTML = docLinkHtml;\n",
              "          element.appendChild(docLink);\n",
              "        }\n",
              "      </script>\n",
              "    </div>\n",
              "  </div>\n",
              "  "
            ]
          },
          "metadata": {},
          "execution_count": 3
        }
      ]
    },
    {
      "cell_type": "code",
      "source": [],
      "metadata": {
        "id": "QKbht9rKOWoL"
      },
      "execution_count": null,
      "outputs": []
    },
    {
      "cell_type": "code",
      "source": [
        "df.info()"
      ],
      "metadata": {
        "colab": {
          "base_uri": "https://localhost:8080/"
        },
        "id": "Hxt1F1TROWpy",
        "outputId": "b4d831fd-8fff-4c85-d538-09e639d3ff8d"
      },
      "execution_count": 3,
      "outputs": [
        {
          "output_type": "stream",
          "name": "stdout",
          "text": [
            "<class 'pandas.core.frame.DataFrame'>\n",
            "RangeIndex: 117 entries, 0 to 116\n",
            "Data columns (total 28 columns):\n",
            " #   Column                 Non-Null Count  Dtype  \n",
            "---  ------                 --------------  -----  \n",
            " 0   episode_number         117 non-null    int64  \n",
            " 1   pitch_number           117 non-null    int64  \n",
            " 2   brand_name             117 non-null    object \n",
            " 3   idea                   117 non-null    object \n",
            " 4   deal                   117 non-null    int64  \n",
            " 5   pitcher_ask_amount     117 non-null    float64\n",
            " 6   ask_equity             117 non-null    float64\n",
            " 7   ask_valuation          117 non-null    float64\n",
            " 8   deal_amount            117 non-null    float64\n",
            " 9   deal_equity            117 non-null    float64\n",
            " 10  deal_valuation         117 non-null    float64\n",
            " 11  ashneer_present        117 non-null    int64  \n",
            " 12  anupam_present         117 non-null    int64  \n",
            " 13  aman_present           117 non-null    int64  \n",
            " 14  namita_present         117 non-null    int64  \n",
            " 15  vineeta_present        117 non-null    int64  \n",
            " 16  peyush_present         117 non-null    int64  \n",
            " 17  ghazal_present         117 non-null    int64  \n",
            " 18  ashneer_deal           117 non-null    int64  \n",
            " 19  anupam_deal            117 non-null    int64  \n",
            " 20  aman_deal              117 non-null    int64  \n",
            " 21  namita_deal            117 non-null    int64  \n",
            " 22  vineeta_deal           117 non-null    int64  \n",
            " 23  peyush_deal            117 non-null    int64  \n",
            " 24  ghazal_deal            117 non-null    int64  \n",
            " 25  total_sharks_invested  117 non-null    int64  \n",
            " 26  amount_per_shark       117 non-null    float64\n",
            " 27  equity_per_shark       117 non-null    float64\n",
            "dtypes: float64(8), int64(18), object(2)\n",
            "memory usage: 25.7+ KB\n"
          ]
        }
      ]
    },
    {
      "cell_type": "code",
      "source": [
        "print(\"There are {} missing values in the data.\".format(df.isna().sum())) "
      ],
      "metadata": {
        "colab": {
          "base_uri": "https://localhost:8080/"
        },
        "id": "sJOy1t1IOpH2",
        "outputId": "310a78da-26e7-41f2-8f95-cef68f77a9ea"
      },
      "execution_count": 4,
      "outputs": [
        {
          "output_type": "stream",
          "name": "stdout",
          "text": [
            "There are episode_number           0\n",
            "pitch_number             0\n",
            "brand_name               0\n",
            "idea                     0\n",
            "deal                     0\n",
            "pitcher_ask_amount       0\n",
            "ask_equity               0\n",
            "ask_valuation            0\n",
            "deal_amount              0\n",
            "deal_equity              0\n",
            "deal_valuation           0\n",
            "ashneer_present          0\n",
            "anupam_present           0\n",
            "aman_present             0\n",
            "namita_present           0\n",
            "vineeta_present          0\n",
            "peyush_present           0\n",
            "ghazal_present           0\n",
            "ashneer_deal             0\n",
            "anupam_deal              0\n",
            "aman_deal                0\n",
            "namita_deal              0\n",
            "vineeta_deal             0\n",
            "peyush_deal              0\n",
            "ghazal_deal              0\n",
            "total_sharks_invested    0\n",
            "amount_per_shark         0\n",
            "equity_per_shark         0\n",
            "dtype: int64 missing values in the data.\n"
          ]
        }
      ]
    },
    {
      "cell_type": "code",
      "source": [
        "print(\"There are {} missing values in the data.\".format(df.isna().sum().sum())) "
      ],
      "metadata": {
        "colab": {
          "base_uri": "https://localhost:8080/"
        },
        "id": "5Wgq0jVpOpMM",
        "outputId": "fd281958-f820-497f-9489-855f00a7e9d4"
      },
      "execution_count": 5,
      "outputs": [
        {
          "output_type": "stream",
          "name": "stdout",
          "text": [
            "There are 0 missing values in the data.\n"
          ]
        }
      ]
    },
    {
      "cell_type": "markdown",
      "source": [],
      "metadata": {
        "id": "Pv87hD7UuRiL"
      }
    },
    {
      "cell_type": "code",
      "source": [
        "n = df['episode_number'].unique()\n",
        "print(n.shape)\n",
        "print(n.shape[0])"
      ],
      "metadata": {
        "colab": {
          "base_uri": "https://localhost:8080/"
        },
        "id": "MoOjgbMyx2Pv",
        "outputId": "fb1891ba-ce5d-4fe8-8eaf-9c7d55fe0f2d"
      },
      "execution_count": 40,
      "outputs": [
        {
          "output_type": "stream",
          "name": "stdout",
          "text": [
            "(35,)\n",
            "35\n"
          ]
        }
      ]
    },
    {
      "cell_type": "markdown",
      "source": [],
      "metadata": {
        "id": "7f3KXd2waC0i"
      }
    },
    {
      "cell_type": "code",
      "source": [
        "stats_numeric_ask_amount = df['pitcher_ask_amount'].describe()\n",
        "print(stats_numeric_ask_amount)"
      ],
      "metadata": {
        "id": "5g51yhWQx3IY",
        "colab": {
          "base_uri": "https://localhost:8080/"
        },
        "outputId": "f6711b4a-d755-4e3e-e5f4-f42914daa88e"
      },
      "execution_count": 20,
      "outputs": [
        {
          "output_type": "stream",
          "name": "stdout",
          "text": [
            "count      117.000000\n",
            "mean       319.854709\n",
            "std       2767.842777\n",
            "min          0.001010\n",
            "25%         45.000000\n",
            "50%         50.000000\n",
            "75%         80.000000\n",
            "max      30000.000000\n",
            "Name: pitcher_ask_amount, dtype: float64\n"
          ]
        }
      ]
    },
    {
      "cell_type": "code",
      "source": [
        "stats_numeric_ask_equity = df['ask_equity'].describe()\n",
        "print(stats_numeric_ask_equity)"
      ],
      "metadata": {
        "id": "AI0hO2icx3L2",
        "colab": {
          "base_uri": "https://localhost:8080/"
        },
        "outputId": "831eae89-8d05-4b38-a719-c422e361606c"
      },
      "execution_count": 11,
      "outputs": [
        {
          "output_type": "stream",
          "name": "stdout",
          "text": [
            "count    117.000000\n",
            "mean       5.188034\n",
            "std        3.892121\n",
            "min        0.250000\n",
            "25%        2.500000\n",
            "50%        5.000000\n",
            "75%        7.500000\n",
            "max       25.000000\n",
            "Name: ask_equity, dtype: float64\n"
          ]
        }
      ]
    },
    {
      "cell_type": "code",
      "source": [
        "stats_numeric_ask_valuation = df['ask_valuation'].describe()\n",
        "print(stats_numeric_ask_valuation)"
      ],
      "metadata": {
        "colab": {
          "base_uri": "https://localhost:8080/"
        },
        "id": "kf-AF7i9akeG",
        "outputId": "e5e384a1-c6b1-4806-d220-5a12b35ec9ab"
      },
      "execution_count": 13,
      "outputs": [
        {
          "output_type": "stream",
          "name": "stdout",
          "text": [
            "count       117.000000\n",
            "mean       3852.462479\n",
            "std       11931.601957\n",
            "min           0.010000\n",
            "25%         666.670000\n",
            "50%        1250.000000\n",
            "75%        2857.140000\n",
            "max      120000.000000\n",
            "Name: ask_valuation, dtype: float64\n"
          ]
        }
      ]
    },
    {
      "cell_type": "code",
      "source": [
        "a = df['episode_number'] == 1\n",
        "print(a)\n",
        "mean_ask_equity = df.loc[a,'ask_equity'].mean()\n",
        "print(mean_ask_equity)"
      ],
      "metadata": {
        "colab": {
          "base_uri": "https://localhost:8080/"
        },
        "id": "__Moe6oJaknc",
        "outputId": "9404e003-4e3c-4d23-c8a7-605431845140"
      },
      "execution_count": 28,
      "outputs": [
        {
          "output_type": "stream",
          "name": "stdout",
          "text": [
            "0       True\n",
            "1       True\n",
            "2       True\n",
            "3      False\n",
            "4      False\n",
            "       ...  \n",
            "112    False\n",
            "113    False\n",
            "114    False\n",
            "115    False\n",
            "116    False\n",
            "Name: episode_number, Length: 117, dtype: bool\n",
            "10.0\n"
          ]
        }
      ]
    },
    {
      "cell_type": "code",
      "source": [
        "print(df['ask_equity'].max())\n",
        "print(df['ask_equity'].min())\n",
        "print(df['ask_equity'].mean())"
      ],
      "metadata": {
        "colab": {
          "base_uri": "https://localhost:8080/"
        },
        "id": "zEhORl0en_dt",
        "outputId": "eb053a4a-92e6-46a0-c048-59cd49581c86"
      },
      "execution_count": 52,
      "outputs": [
        {
          "output_type": "stream",
          "name": "stdout",
          "text": [
            "25.0\n",
            "0.25\n",
            "5.188034188034188\n"
          ]
        }
      ]
    },
    {
      "cell_type": "code",
      "source": [
        "print(df[['ask_valuation','ask_valuation','pitcher_ask_amount']].max())\n",
        "print(df[['ask_valuation','ask_valuation','pitcher_ask_amount']].min())\n",
        "print(df[['ask_valuation','ask_valuation','pitcher_ask_amount']].mean())"
      ],
      "metadata": {
        "colab": {
          "base_uri": "https://localhost:8080/"
        },
        "id": "nZZuZguvoiK2",
        "outputId": "337eddbd-249b-4853-9741-3b4b48486f86"
      },
      "execution_count": 57,
      "outputs": [
        {
          "output_type": "stream",
          "name": "stdout",
          "text": [
            "ask_valuation         120000.0\n",
            "ask_valuation         120000.0\n",
            "pitcher_ask_amount     30000.0\n",
            "dtype: float64\n",
            "ask_valuation         0.01000\n",
            "ask_valuation         0.01000\n",
            "pitcher_ask_amount    0.00101\n",
            "dtype: float64\n",
            "ask_valuation         3852.462479\n",
            "ask_valuation         3852.462479\n",
            "pitcher_ask_amount     319.854709\n",
            "dtype: float64\n"
          ]
        }
      ]
    },
    {
      "cell_type": "code",
      "source": [
        "print(df['pitcher_ask_amount'].max())\n",
        "print(df['pitcher_ask_amount'].min())\n",
        "print(df['pitcher_ask_amount'].mean())"
      ],
      "metadata": {
        "colab": {
          "base_uri": "https://localhost:8080/"
        },
        "id": "BNEGdH6goqnN",
        "outputId": "3eacc9cb-f5eb-471f-9e32-82f7291b6354"
      },
      "execution_count": 54,
      "outputs": [
        {
          "output_type": "stream",
          "name": "stdout",
          "text": [
            "30000.0\n",
            "0.00101\n",
            "319.8547094871795\n"
          ]
        }
      ]
    },
    {
      "cell_type": "code",
      "source": [
        "print(df.groupby([\"episode_number\"])['ask_equity','ask_valuation','pitcher_ask_amount'].mean())"
      ],
      "metadata": {
        "colab": {
          "base_uri": "https://localhost:8080/"
        },
        "id": "9RbB39NqlxYE",
        "outputId": "c563cc79-011f-4142-b18e-13855399b453"
      },
      "execution_count": 48,
      "outputs": [
        {
          "output_type": "stream",
          "name": "stdout",
          "text": [
            "                ask_equity  ask_valuation  pitcher_ask_amount\n",
            "episode_number                                               \n",
            "1                10.000000     505.556667           38.333333\n",
            "2                 3.666667    3000.000000           56.666667\n",
            "3                 2.083333   14791.666667           75.000000\n",
            "4                 7.166667    1013.890000           58.333333\n",
            "5                 8.666667    3683.333333           53.333333\n",
            "6                 5.333333    3800.000000           65.000000\n",
            "7                 3.500000    4388.890000           75.000000\n",
            "8                 4.333333    1248.890000           45.333333\n",
            "9                 4.166667    1666.666667           66.666667\n",
            "10                4.000000     866.666667           28.333333\n",
            "11               13.333333   40433.333333        10026.666667\n",
            "12                4.000000    1336.110000           51.666667\n",
            "13                5.666667    1200.000000           43.333333\n",
            "14                3.666667    2522.220000           81.666667\n",
            "15                4.000000     783.333333           28.333333\n",
            "16                4.250000    1799.107500           68.750000\n",
            "17                7.000000    1825.000000           82.500000\n",
            "18                2.625000    4062.500000           72.500000\n",
            "19                4.812500    3200.000000           77.500000\n",
            "20                3.000000    2150.000000           50.000000\n",
            "21                7.666667     806.666667           60.666667\n",
            "22                3.500000    2150.000000           66.250000\n",
            "23                4.000000    3525.000000           76.250000\n",
            "24                9.333333     333.333333           30.000000\n",
            "25                2.666667    4583.333333          100.000000\n",
            "26                6.333333    2541.666667           55.000000\n",
            "27                6.500000    2925.002500           52.500253\n",
            "28                4.666667    1558.333333           71.666667\n",
            "29                3.833333    2285.713333           83.333333\n",
            "30                6.125000    9791.667500          126.250000\n",
            "31                4.375000    2287.500000           65.000000\n",
            "32                4.500000    2931.547500           91.250000\n",
            "33                4.500000    1675.000000           38.750000\n",
            "34                5.125000    3450.000000           57.500000\n",
            "35                4.833333    1916.666667           63.333333\n"
          ]
        },
        {
          "output_type": "stream",
          "name": "stderr",
          "text": [
            "<ipython-input-48-bbb5f20bd5f8>:1: FutureWarning: Indexing with multiple keys (implicitly converted to a tuple of keys) will be deprecated, use a list instead.\n",
            "  print(df.groupby([\"episode_number\"])['ask_equity','ask_valuation','pitcher_ask_amount'].mean())\n"
          ]
        }
      ]
    },
    {
      "cell_type": "code",
      "source": [
        "a = ((df['total_sharks_invested'] == 2) | (df['total_sharks_invested'] == 3) | (df['total_sharks_invested'] == 4))\n",
        "#print(a)\n",
        "df.loc[a,'brand_name']"
      ],
      "metadata": {
        "colab": {
          "base_uri": "https://localhost:8080/"
        },
        "id": "Q1SOnbb_pmHj",
        "outputId": "4d7202e7-c431-4297-c165-f73a38a46a4e"
      },
      "execution_count": 65,
      "outputs": [
        {
          "output_type": "execute_result",
          "data": {
            "text/plain": [
              "0                 BluePine Industries\n",
              "1                       Booz scooters\n",
              "2                 Heart up my Sleeves\n",
              "9                               Cosiq\n",
              "11                             Bummer\n",
              "12                        Revamp Moto\n",
              "18                 Raising Superstars\n",
              "21                       Beyond Snack\n",
              "22     Vivalyf Innovations- Easy Life\n",
              "24                              Altor\n",
              "25                              Ariro\n",
              "27                            Nuutjob\n",
              "28                           Meatyour\n",
              "29                          EventBeep\n",
              "32                              Farda\n",
              "35                               LOKA\n",
              "36                              Annie\n",
              "37                          Caragreen\n",
              "38                    The Yarn Bazaar\n",
              "39                  The Renal Project\n",
              "44                            Cocofit\n",
              "45                       Bamboo India\n",
              "47                       Beyond Water\n",
              "48                          Let's Try\n",
              "50                      Aas Vidyalaya\n",
              "58                            WeSTOCK\n",
              "64                         Get a Whey\n",
              "66                    The Quirky Nari\n",
              "67                     Hair Originals\n",
              "75                       The Sass Bar\n",
              "85                 Watt Technovations\n",
              "88                           Humpy A2\n",
              "90           Gold Safe Solutions Ind.\n",
              "91                        Wakao Foods\n",
              "95                       Kabaddi Adda\n",
              "108                        Tweek Labs\n",
              "109                            Proxgy\n",
              "110                Nomad Food Project\n",
              "114                     Jain Shikanji\n",
              "Name: brand_name, dtype: object"
            ]
          },
          "metadata": {},
          "execution_count": 65
        }
      ]
    },
    {
      "cell_type": "code",
      "source": [
        "print(df.groupby([\"episode_number\"])['total_sharks_invested'].max())\n"
      ],
      "metadata": {
        "colab": {
          "base_uri": "https://localhost:8080/"
        },
        "id": "bbH2yPcDrRz3",
        "outputId": "74ef9089-0332-44ba-d9be-eeaa3e3fb756"
      },
      "execution_count": 67,
      "outputs": [
        {
          "output_type": "stream",
          "name": "stdout",
          "text": [
            "episode_number\n",
            "1     3\n",
            "2     1\n",
            "3     1\n",
            "4     2\n",
            "5     2\n",
            "6     5\n",
            "7     2\n",
            "8     2\n",
            "9     2\n",
            "10    3\n",
            "11    2\n",
            "12    3\n",
            "13    4\n",
            "14    2\n",
            "15    3\n",
            "16    2\n",
            "17    5\n",
            "18    1\n",
            "19    4\n",
            "20    5\n",
            "21    3\n",
            "22    3\n",
            "23    1\n",
            "24    2\n",
            "25    5\n",
            "26    1\n",
            "27    4\n",
            "28    3\n",
            "29    3\n",
            "30    2\n",
            "31    1\n",
            "32    1\n",
            "33    3\n",
            "34    4\n",
            "35    4\n",
            "Name: total_sharks_invested, dtype: int64\n"
          ]
        }
      ]
    },
    {
      "cell_type": "code",
      "source": [
        "print(df.groupby([\"episode_number\"])['total_sharks_invested'].min())"
      ],
      "metadata": {
        "colab": {
          "base_uri": "https://localhost:8080/"
        },
        "id": "ISqVYaqcrnoP",
        "outputId": "ab13e562-e247-4b40-da03-027fd5540237"
      },
      "execution_count": 68,
      "outputs": [
        {
          "output_type": "stream",
          "name": "stdout",
          "text": [
            "episode_number\n",
            "1     2\n",
            "2     0\n",
            "3     0\n",
            "4     0\n",
            "5     0\n",
            "6     0\n",
            "7     0\n",
            "8     1\n",
            "9     0\n",
            "10    3\n",
            "11    0\n",
            "12    0\n",
            "13    2\n",
            "14    0\n",
            "15    1\n",
            "16    0\n",
            "17    0\n",
            "18    0\n",
            "19    0\n",
            "20    0\n",
            "21    1\n",
            "22    0\n",
            "23    0\n",
            "24    0\n",
            "25    0\n",
            "26    0\n",
            "27    0\n",
            "28    0\n",
            "29    0\n",
            "30    0\n",
            "31    0\n",
            "32    0\n",
            "33    0\n",
            "34    0\n",
            "35    0\n",
            "Name: total_sharks_invested, dtype: int64\n"
          ]
        }
      ]
    },
    {
      "cell_type": "code",
      "source": [
        "print(df.groupby([\"brand_name\"])['total_sharks_invested'].max())"
      ],
      "metadata": {
        "colab": {
          "base_uri": "https://localhost:8080/"
        },
        "id": "5cdqMZ3xslYP",
        "outputId": "d62ab89d-4658-46a4-924d-a3f9c77d1948"
      },
      "execution_count": 69,
      "outputs": [
        {
          "output_type": "stream",
          "name": "stdout",
          "text": [
            "brand_name\n",
            "ARRCOAT Surface Textures          1\n",
            "Aas Vidyalaya                     3\n",
            "Agro tourism                      0\n",
            "Aliste Technologies               0\n",
            "Alpino                            0\n",
            "                                 ..\n",
            "Vivalyf Innovations- Easy Life    2\n",
            "Wakao Foods                       3\n",
            "Watt Technovations                4\n",
            "WeSTOCK                           4\n",
            "Woloo                             0\n",
            "Name: total_sharks_invested, Length: 117, dtype: int64\n"
          ]
        }
      ]
    },
    {
      "cell_type": "code",
      "source": [
        "print(df.groupby([\"brand_name\"])['total_sharks_invested'].min())"
      ],
      "metadata": {
        "colab": {
          "base_uri": "https://localhost:8080/"
        },
        "id": "0kiqHYbBsy-E",
        "outputId": "b6d4db2a-aba5-4f97-8f34-8a64a129d4c5"
      },
      "execution_count": 70,
      "outputs": [
        {
          "output_type": "stream",
          "name": "stdout",
          "text": [
            "brand_name\n",
            "ARRCOAT Surface Textures          1\n",
            "Aas Vidyalaya                     3\n",
            "Agro tourism                      0\n",
            "Aliste Technologies               0\n",
            "Alpino                            0\n",
            "                                 ..\n",
            "Vivalyf Innovations- Easy Life    2\n",
            "Wakao Foods                       3\n",
            "Watt Technovations                4\n",
            "WeSTOCK                           4\n",
            "Woloo                             0\n",
            "Name: total_sharks_invested, Length: 117, dtype: int64\n"
          ]
        }
      ]
    },
    {
      "cell_type": "code",
      "source": [
        "a = ((df['deal'] == 1) | (df['deal_amount'] == 100))\n",
        "#print(a)\n",
        "df.loc[a,'brand_name']"
      ],
      "metadata": {
        "colab": {
          "base_uri": "https://localhost:8080/"
        },
        "id": "VaZQkKfAtP8S",
        "outputId": "d1585fff-db5e-471e-9dbf-5f1cc6c43685"
      },
      "execution_count": 71,
      "outputs": [
        {
          "output_type": "execute_result",
          "data": {
            "text/plain": [
              "0      BluePine Industries\n",
              "1            Booz scooters\n",
              "2      Heart up my Sleeves\n",
              "3               Tagz Foods\n",
              "7                Peeschute\n",
              "              ...         \n",
              "106          Colour Me Mad\n",
              "108             Tweek Labs\n",
              "109                 Proxgy\n",
              "110     Nomad Food Project\n",
              "114          Jain Shikanji\n",
              "Name: brand_name, Length: 66, dtype: object"
            ]
          },
          "metadata": {},
          "execution_count": 71
        }
      ]
    },
    {
      "cell_type": "code",
      "source": [
        "a = ((df['deal_equity'] >= 0) | (df['deal_equity'] <= 50))\n",
        "#print(a)\n",
        "df.loc[a,'brand_name']"
      ],
      "metadata": {
        "colab": {
          "base_uri": "https://localhost:8080/"
        },
        "id": "j8GZ-1uBtpoL",
        "outputId": "3e1410ff-28a7-4dc4-f3c9-151ac52ec34d"
      },
      "execution_count": 72,
      "outputs": [
        {
          "output_type": "execute_result",
          "data": {
            "text/plain": [
              "0      BluePine Industries\n",
              "1            Booz scooters\n",
              "2      Heart up my Sleeves\n",
              "3               Tagz Foods\n",
              "4           Head and Heart\n",
              "              ...         \n",
              "112          Green Protein\n",
              "113                On2Cook\n",
              "114          Jain Shikanji\n",
              "115                  Woloo\n",
              "116           Elcare India\n",
              "Name: brand_name, Length: 117, dtype: object"
            ]
          },
          "metadata": {},
          "execution_count": 72
        }
      ]
    },
    {
      "cell_type": "code",
      "source": [
        "print(df.groupby([\"episode_number\"])['brand_name'].count())"
      ],
      "metadata": {
        "colab": {
          "base_uri": "https://localhost:8080/"
        },
        "id": "MSCcUMOlt7kD",
        "outputId": "fe99558d-ff5f-4d5f-967a-34512023b13f"
      },
      "execution_count": 74,
      "outputs": [
        {
          "output_type": "stream",
          "name": "stdout",
          "text": [
            "episode_number\n",
            "1     3\n",
            "2     3\n",
            "3     3\n",
            "4     3\n",
            "5     3\n",
            "6     3\n",
            "7     3\n",
            "8     3\n",
            "9     3\n",
            "10    3\n",
            "11    3\n",
            "12    3\n",
            "13    3\n",
            "14    3\n",
            "15    3\n",
            "16    4\n",
            "17    4\n",
            "18    4\n",
            "19    4\n",
            "20    3\n",
            "21    3\n",
            "22    4\n",
            "23    4\n",
            "24    3\n",
            "25    3\n",
            "26    3\n",
            "27    4\n",
            "28    3\n",
            "29    3\n",
            "30    4\n",
            "31    4\n",
            "32    4\n",
            "33    4\n",
            "34    4\n",
            "35    3\n",
            "Name: brand_name, dtype: int64\n"
          ]
        }
      ]
    },
    {
      "cell_type": "code",
      "source": [
        "count = 0\n",
        "for col in df.columns:\n",
        "  if '_present' in col:\n",
        "    count += 1\n",
        "    print(col.replace('_present',''))\n",
        "print(count)"
      ],
      "metadata": {
        "colab": {
          "base_uri": "https://localhost:8080/"
        },
        "id": "JCJZsCsovsp9",
        "outputId": "2ec6a6d0-fbf1-4730-f77f-76a6392fe590"
      },
      "execution_count": 76,
      "outputs": [
        {
          "output_type": "stream",
          "name": "stdout",
          "text": [
            "ashneer\n",
            "anupam\n",
            "aman\n",
            "namita\n",
            "vineeta\n",
            "peyush\n",
            "ghazal\n",
            "7\n"
          ]
        }
      ]
    },
    {
      "cell_type": "markdown",
      "source": [
        "# New Section"
      ],
      "metadata": {
        "id": "Hy2_GS0fTTXv"
      }
    },
    {
      "cell_type": "code",
      "source": [
        "#13\n",
        "df['aman_present'].count()\n",
        "                      "
      ],
      "metadata": {
        "colab": {
          "base_uri": "https://localhost:8080/"
        },
        "id": "sajzKCSFPh5I",
        "outputId": "fa11b16e-24f1-4351-9250-69b0d4d4b0db"
      },
      "execution_count": 67,
      "outputs": [
        {
          "output_type": "execute_result",
          "data": {
            "text/plain": [
              "117"
            ]
          },
          "metadata": {},
          "execution_count": 67
        }
      ]
    },
    {
      "cell_type": "code",
      "source": [
        "df['vineeta_present'].sum()    "
      ],
      "metadata": {
        "colab": {
          "base_uri": "https://localhost:8080/"
        },
        "id": "fFzy-uSxtcsd",
        "outputId": "45e41c90-3edf-4463-d311-a24c9b960bb9"
      },
      "execution_count": 15,
      "outputs": [
        {
          "output_type": "execute_result",
          "data": {
            "text/plain": [
              "66"
            ]
          },
          "metadata": {},
          "execution_count": 15
        }
      ]
    },
    {
      "cell_type": "code",
      "source": [
        "n = df['brand_name'].unique()\n",
        "print(n)\n",
        "print(n.shape[0])"
      ],
      "metadata": {
        "colab": {
          "base_uri": "https://localhost:8080/"
        },
        "id": "z_2KvHJzxV_I",
        "outputId": "d1ca5232-18b6-498a-fd07-f1825ad9cda7"
      },
      "execution_count": 78,
      "outputs": [
        {
          "output_type": "stream",
          "name": "stdout",
          "text": [
            "['BluePine Industries' 'Booz scooters' 'Heart up my Sleeves' 'Tagz Foods'\n",
            " 'Head and Heart' 'Agro tourism' 'Qzense Labs' 'Peeschute' 'NOCD' 'Cosiq'\n",
            " 'JhaJi Achaar' 'Bummer' 'Revamp Moto' 'Hungry Heads' 'Shrawani Engineers'\n",
            " 'Skippi Pops' 'Menstrupedia' 'Hecolll' 'Raising Superstars' 'Torch-it'\n",
            " 'La Kheer Deli' 'Beyond Snack' 'Vivalyf Innovations- Easy Life'\n",
            " 'Motion Breeze' 'Altor' 'Ariro' 'Kabira Handmade' 'Nuutjob' 'Meatyour'\n",
            " 'EventBeep' \"Gopal's 56\" 'ARRCOAT Surface Textures' 'Farda'\n",
            " 'Auli Lifestyle' 'SweeDesi' 'LOKA' 'Annie' 'Caragreen' 'The Yarn Bazaar'\n",
            " 'The Renal Project' 'Morikko Pure Foods' 'Good Good Piggy Bank'\n",
            " 'Hammer Lifestyle' 'PNT' 'Cocofit' 'Bamboo India' 'Flying Furr'\n",
            " 'Beyond Water' \"Let's Try\" 'Find Your Kicks India' 'Aas Vidyalaya'\n",
            " 'Outbox' 'RoadBounce' \"Mommy's Kitchen\" 'India Hemp and Co' 'Otua'\n",
            " 'Anthyesti' 'Ethik' 'WeSTOCK' 'KetoIndia' 'Magic lock' 'The State Plate'\n",
            " 'Bakarmax' 'IN A CAN' 'Get a Whey' 'Sid07 Designs' 'The Quirky Nari'\n",
            " 'Hair Originals' 'Poo de Cologne' 'Moonshine Meads' 'Falhari'\n",
            " 'Namhya Foods' 'Urban Monkey' 'Guardian Gears' 'Modern Myth'\n",
            " 'The Sass Bar' 'KG Agrotech' 'Nuskha Kitchen' 'PawsIndia'\n",
            " 'Sunfox Technologies' 'Alpino' 'Isak Fragrances' 'Julaa Automation'\n",
            " 'Rare Planet' 'Theka Coffee' 'Watt Technovations' 'Aliste Technologies'\n",
            " 'Insurance Samadhan' 'Humpy A2' 'Kunafa World' 'Gold Safe Solutions Ind.'\n",
            " 'Wakao Foods' 'PDD Falcon' 'PlayBox TV' 'Sippline Drinking Shields'\n",
            " 'Kabaddi Adda' 'Shades of Spring' 'Scholify' 'Scrapshala' 'Sabjikothi'\n",
            " 'AyuRythm' 'Astrix' 'Thea and Sid' 'Experential Etc' 'GrowFitter'\n",
            " 'Med Tech' 'Colour Me Mad' \"Mavi's\" 'Tweek Labs' 'Proxgy'\n",
            " 'Nomad Food Project' 'Twee in One' 'Green Protein' 'On2Cook'\n",
            " 'Jain Shikanji' 'Woloo' 'Elcare India']\n",
            "117\n"
          ]
        }
      ]
    },
    {
      "cell_type": "code",
      "source": [
        "df['aman_deal'].sum()  "
      ],
      "metadata": {
        "colab": {
          "base_uri": "https://localhost:8080/"
        },
        "id": "BTDATrWaxWGf",
        "outputId": "b12b48f1-81ae-4872-92a9-68ac3e23e3d2"
      },
      "execution_count": 79,
      "outputs": [
        {
          "output_type": "execute_result",
          "data": {
            "text/plain": [
              "28"
            ]
          },
          "metadata": {},
          "execution_count": 79
        }
      ]
    },
    {
      "cell_type": "markdown",
      "source": [
        "Q.14"
      ],
      "metadata": {
        "id": "d1C38akRHG0d"
      }
    },
    {
      "cell_type": "code",
      "source": [
        "a = df['aman_deal'] == 1\n",
        "b = df.loc[a,['brand_name','equity_per_shark']]\n",
        "print(b)\n"
      ],
      "metadata": {
        "colab": {
          "base_uri": "https://localhost:8080/"
        },
        "id": "_cHeY1KmHItm",
        "outputId": "bd577952-8f68-4aa3-d1d6-fc86d3346820"
      },
      "execution_count": 82,
      "outputs": [
        {
          "output_type": "stream",
          "name": "stdout",
          "text": [
            "                brand_name  equity_per_shark\n",
            "0      BluePine Industries          5.333333\n",
            "7                Peeschute          6.000000\n",
            "11                  Bummer          3.750000\n",
            "12             Revamp Moto          0.750000\n",
            "15             Skippi Pops          3.000000\n",
            "18      Raising Superstars          2.000000\n",
            "21            Beyond Snack          1.250000\n",
            "24                   Altor          3.500000\n",
            "25                   Ariro          5.000000\n",
            "27                 Nuutjob          6.666667\n",
            "28                Meatyour          6.666667\n",
            "29               EventBeep          1.000000\n",
            "32                   Farda         10.000000\n",
            "35                    LOKA          8.000000\n",
            "38         The Yarn Bazaar          2.500000\n",
            "39       The Renal Project          3.000000\n",
            "42        Hammer Lifestyle         40.000000\n",
            "44                 Cocofit          1.666667\n",
            "47            Beyond Water          7.500000\n",
            "48               Let's Try          6.000000\n",
            "49   Find Your Kicks India          5.000000\n",
            "58                 WeSTOCK          2.500000\n",
            "63                IN A CAN          2.000000\n",
            "64              Get a Whey          5.000000\n",
            "71            Namhya Foods         10.000000\n",
            "100               AyuRythm          2.680000\n",
            "104             GrowFitter          2.000000\n",
            "114          Jain Shikanji          7.500000\n"
          ]
        }
      ]
    },
    {
      "cell_type": "code",
      "source": [
        "df['amount_invested'] = df['total_sharks_invested']*df['amount_per_shark']"
      ],
      "metadata": {
        "id": "Yoq3gusNF_vc"
      },
      "execution_count": 80,
      "outputs": []
    },
    {
      "cell_type": "markdown",
      "source": [
        "Q.15"
      ],
      "metadata": {
        "id": "pTaG6MBJHDTD"
      }
    },
    {
      "cell_type": "code",
      "source": [
        "df['amount_invested'].sum()"
      ],
      "metadata": {
        "colab": {
          "base_uri": "https://localhost:8080/"
        },
        "id": "p-LtQTkFGQzo",
        "outputId": "242fe924-e8df-47e4-be3f-b9b24bb4077a"
      },
      "execution_count": 81,
      "outputs": [
        {
          "output_type": "execute_result",
          "data": {
            "text/plain": [
              "3742.001060079"
            ]
          },
          "metadata": {},
          "execution_count": 81
        }
      ]
    },
    {
      "cell_type": "code",
      "source": [
        "k=df.groupby([\"episode_number\"])['aman_present'].mean()"
      ],
      "metadata": {
        "id": "H-WlSYX7ujr-"
      },
      "execution_count": 73,
      "outputs": []
    },
    {
      "cell_type": "code",
      "source": [
        "print(type(k))"
      ],
      "metadata": {
        "colab": {
          "base_uri": "https://localhost:8080/"
        },
        "id": "8d29ky8iukCS",
        "outputId": "9c11cfbd-e4a1-42da-bdd1-f1eed2f6f8d6"
      },
      "execution_count": 74,
      "outputs": [
        {
          "output_type": "stream",
          "name": "stdout",
          "text": [
            "<class 'pandas.core.series.Series'>\n"
          ]
        }
      ]
    },
    {
      "cell_type": "code",
      "source": [
        "k"
      ],
      "metadata": {
        "colab": {
          "base_uri": "https://localhost:8080/"
        },
        "id": "FndMgqdSCvIX",
        "outputId": "8b1f0f95-f761-4f87-bbcc-3bfe304f11e9"
      },
      "execution_count": 75,
      "outputs": [
        {
          "output_type": "execute_result",
          "data": {
            "text/plain": [
              "episode_number\n",
              "1     1.0\n",
              "2     1.0\n",
              "3     1.0\n",
              "4     1.0\n",
              "5     1.0\n",
              "6     1.0\n",
              "7     1.0\n",
              "8     1.0\n",
              "9     1.0\n",
              "10    1.0\n",
              "11    1.0\n",
              "12    1.0\n",
              "13    1.0\n",
              "14    1.0\n",
              "15    1.0\n",
              "16    1.0\n",
              "17    1.0\n",
              "18    1.0\n",
              "19    1.0\n",
              "20    1.0\n",
              "21    1.0\n",
              "22    1.0\n",
              "23    1.0\n",
              "24    0.0\n",
              "25    0.0\n",
              "26    0.0\n",
              "27    0.0\n",
              "28    0.0\n",
              "29    0.0\n",
              "30    1.0\n",
              "31    1.0\n",
              "32    1.0\n",
              "33    1.0\n",
              "34    1.0\n",
              "35    1.0\n",
              "Name: aman_present, dtype: float64"
            ]
          },
          "metadata": {},
          "execution_count": 75
        }
      ]
    },
    {
      "cell_type": "code",
      "source": [
        "k.sum()"
      ],
      "metadata": {
        "colab": {
          "base_uri": "https://localhost:8080/"
        },
        "id": "WCBa3ihbCyhl",
        "outputId": "c83d8dfe-6ca9-4d76-b16d-12ad36bf6bae"
      },
      "execution_count": 72,
      "outputs": [
        {
          "output_type": "execute_result",
          "data": {
            "text/plain": [
              "29.0"
            ]
          },
          "metadata": {},
          "execution_count": 72
        }
      ]
    },
    {
      "cell_type": "code",
      "source": [
        "kdf = pd.DataFrame(k)"
      ],
      "metadata": {
        "id": "Ljjdov6FvJfC"
      },
      "execution_count": 63,
      "outputs": []
    },
    {
      "cell_type": "code",
      "source": [
        "for col in kdf.columns:\n",
        "  print(col)"
      ],
      "metadata": {
        "colab": {
          "base_uri": "https://localhost:8080/"
        },
        "id": "IhcDdNsMwekb",
        "outputId": "6521d308-65aa-49db-caeb-556cbb963f85"
      },
      "execution_count": 64,
      "outputs": [
        {
          "output_type": "stream",
          "name": "stdout",
          "text": [
            "aman_present\n"
          ]
        }
      ]
    },
    {
      "cell_type": "code",
      "source": [
        "kdf.iloc[:,0].sum()"
      ],
      "metadata": {
        "colab": {
          "base_uri": "https://localhost:8080/"
        },
        "id": "TUVKSYf7w9dB",
        "outputId": "3d1186cc-9ad4-4f48-bbaf-50da645e967d"
      },
      "execution_count": 65,
      "outputs": [
        {
          "output_type": "execute_result",
          "data": {
            "text/plain": [
              "98"
            ]
          },
          "metadata": {},
          "execution_count": 65
        }
      ]
    },
    {
      "cell_type": "code",
      "source": [
        "l = []\n",
        "for i in df.columns[18:25]:\n",
        "    x=df[df[i]==1]\n",
        "    s=x[\"equity_per_shark\"].sum()\n",
        "    l.append(s)\n",
        "    print(i,\"gets total\",s,\"equity\")\n",
        "amount=sorted(l,reverse=True)\n",
        "amount"
      ],
      "metadata": {
        "colab": {
          "base_uri": "https://localhost:8080/"
        },
        "id": "2epU8QUjRBzd",
        "outputId": "47c657d8-c3cb-4e89-b70e-548fcee6a26a"
      },
      "execution_count": 82,
      "outputs": [
        {
          "output_type": "stream",
          "name": "stdout",
          "text": [
            "ashneer_deal gets total 93.249999999 equity\n",
            "anupam_deal gets total 166.35 equity\n",
            "aman_deal gets total 160.263333334 equity\n",
            "namita_deal gets total 134.78333333400002 equity\n",
            "vineeta_deal gets total 131.533333333 equity\n",
            "peyush_deal gets total 315.84999999999997 equity\n",
            "ghazal_deal gets total 46.7 equity\n"
          ]
        },
        {
          "output_type": "execute_result",
          "data": {
            "text/plain": [
              "[315.84999999999997,\n",
              " 166.35,\n",
              " 160.263333334,\n",
              " 134.78333333400002,\n",
              " 131.533333333,\n",
              " 93.249999999,\n",
              " 46.7]"
            ]
          },
          "metadata": {},
          "execution_count": 82
        }
      ]
    },
    {
      "cell_type": "markdown",
      "source": [
        "# New Section"
      ],
      "metadata": {
        "id": "Sd3tr4boTT4t"
      }
    },
    {
      "cell_type": "code",
      "source": [],
      "metadata": {
        "id": "A_mmXoIwKzM7"
      },
      "execution_count": null,
      "outputs": []
    },
    {
      "cell_type": "code",
      "source": [],
      "metadata": {
        "id": "a-FHA-zQKzQm"
      },
      "execution_count": null,
      "outputs": []
    },
    {
      "cell_type": "code",
      "source": [],
      "metadata": {
        "id": "gifsH_HjKzTM"
      },
      "execution_count": null,
      "outputs": []
    },
    {
      "cell_type": "code",
      "source": [],
      "metadata": {
        "id": "tccNhNwhKzWo"
      },
      "execution_count": null,
      "outputs": []
    },
    {
      "cell_type": "code",
      "source": [],
      "metadata": {
        "id": "ykokRsFWKzZg"
      },
      "execution_count": null,
      "outputs": []
    },
    {
      "cell_type": "code",
      "source": [],
      "metadata": {
        "id": "K4kwr2ygKzcx"
      },
      "execution_count": null,
      "outputs": []
    },
    {
      "cell_type": "code",
      "source": [],
      "metadata": {
        "id": "DkcvxwFHKzgD"
      },
      "execution_count": null,
      "outputs": []
    },
    {
      "cell_type": "code",
      "source": [],
      "metadata": {
        "id": "6Ft9fJAAKzj0"
      },
      "execution_count": null,
      "outputs": []
    },
    {
      "cell_type": "markdown",
      "source": [
        "# New Section"
      ],
      "metadata": {
        "id": "tNiDaev2TUUu"
      }
    }
  ]
}